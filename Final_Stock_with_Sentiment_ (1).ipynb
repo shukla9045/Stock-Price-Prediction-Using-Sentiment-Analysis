{
  "nbformat": 4,
  "nbformat_minor": 0,
  "metadata": {
    "colab": {
      "name": "Final Stock with Sentiment .ipynb",
      "provenance": [],
      "collapsed_sections": []
    },
    "kernelspec": {
      "name": "python3",
      "display_name": "Python 3"
    }
  },
  "cells": [
    {
      "cell_type": "code",
      "metadata": {
        "id": "BSxfTsEZPxro",
        "colab_type": "code",
        "colab": {
          "base_uri": "https://localhost:8080/",
          "height": 121
        },
        "outputId": "4a2c64dd-66c5-40c3-b759-195937af2e64"
      },
      "source": [
        "import numpy as np\n",
        "import matplotlib.pyplot as plt\n",
        "import pandas as pd\n",
        "\n",
        "from google.colab import drive\n",
        "drive.mount('/content/gdrive')\n",
        "\n",
        "file = \"/content/gdrive/My Drive/1Stock_Price_Train.csv\"\n",
        "file2=\"/content/gdrive/My Drive/1Stock_Price_Test.csv\"\n"
      ],
      "execution_count": null,
      "outputs": [
        {
          "output_type": "stream",
          "text": [
            "Go to this URL in a browser: https://accounts.google.com/o/oauth2/auth?client_id=947318989803-6bn6qk8qdgf4n4g3pfee6491hc0brc4i.apps.googleusercontent.com&redirect_uri=urn%3aietf%3awg%3aoauth%3a2.0%3aoob&response_type=code&scope=email%20https%3a%2f%2fwww.googleapis.com%2fauth%2fdocs.test%20https%3a%2f%2fwww.googleapis.com%2fauth%2fdrive%20https%3a%2f%2fwww.googleapis.com%2fauth%2fdrive.photos.readonly%20https%3a%2f%2fwww.googleapis.com%2fauth%2fpeopleapi.readonly\n",
            "\n",
            "Enter your authorization code:\n",
            "··········\n",
            "Mounted at /content/gdrive\n"
          ],
          "name": "stdout"
        }
      ]
    },
    {
      "cell_type": "code",
      "metadata": {
        "id": "TczDVll4qulJ",
        "colab_type": "code",
        "colab": {
          "base_uri": "https://localhost:8080/",
          "height": 443
        },
        "outputId": "0623bb59-0706-4f7b-a161-5ddb8ce1be85"
      },
      "source": [
        "df = pd.read_csv(file, index_col = 0)\n",
        "df.info()\n",
        "df.head()"
      ],
      "execution_count": null,
      "outputs": [
        {
          "output_type": "stream",
          "text": [
            "<class 'pandas.core.frame.DataFrame'>\n",
            "Index: 1258 entries, 3/1/2012 to 12/30/2016\n",
            "Data columns (total 6 columns):\n",
            " #   Column     Non-Null Count  Dtype  \n",
            "---  ------     --------------  -----  \n",
            " 0   Open       1258 non-null   float64\n",
            " 1   High       1258 non-null   float64\n",
            " 2   Low        1258 non-null   float64\n",
            " 3   Close      1258 non-null   object \n",
            " 4   Volume     1258 non-null   object \n",
            " 5   Sentiment  1258 non-null   float64\n",
            "dtypes: float64(4), object(2)\n",
            "memory usage: 68.8+ KB\n"
          ],
          "name": "stdout"
        },
        {
          "output_type": "execute_result",
          "data": {
            "text/html": [
              "<div>\n",
              "<style scoped>\n",
              "    .dataframe tbody tr th:only-of-type {\n",
              "        vertical-align: middle;\n",
              "    }\n",
              "\n",
              "    .dataframe tbody tr th {\n",
              "        vertical-align: top;\n",
              "    }\n",
              "\n",
              "    .dataframe thead th {\n",
              "        text-align: right;\n",
              "    }\n",
              "</style>\n",
              "<table border=\"1\" class=\"dataframe\">\n",
              "  <thead>\n",
              "    <tr style=\"text-align: right;\">\n",
              "      <th></th>\n",
              "      <th>Open</th>\n",
              "      <th>High</th>\n",
              "      <th>Low</th>\n",
              "      <th>Close</th>\n",
              "      <th>Volume</th>\n",
              "      <th>Sentiment</th>\n",
              "    </tr>\n",
              "    <tr>\n",
              "      <th>Date</th>\n",
              "      <th></th>\n",
              "      <th></th>\n",
              "      <th></th>\n",
              "      <th></th>\n",
              "      <th></th>\n",
              "      <th></th>\n",
              "    </tr>\n",
              "  </thead>\n",
              "  <tbody>\n",
              "    <tr>\n",
              "      <th>3/1/2012</th>\n",
              "      <td>325.25</td>\n",
              "      <td>332.83</td>\n",
              "      <td>324.97</td>\n",
              "      <td>663.59</td>\n",
              "      <td>7,380,500</td>\n",
              "      <td>0.054269</td>\n",
              "    </tr>\n",
              "    <tr>\n",
              "      <th>4/1/2012</th>\n",
              "      <td>331.27</td>\n",
              "      <td>333.87</td>\n",
              "      <td>329.08</td>\n",
              "      <td>666.45</td>\n",
              "      <td>5,749,400</td>\n",
              "      <td>0.443195</td>\n",
              "    </tr>\n",
              "    <tr>\n",
              "      <th>5/1/2012</th>\n",
              "      <td>329.83</td>\n",
              "      <td>330.75</td>\n",
              "      <td>326.89</td>\n",
              "      <td>657.21</td>\n",
              "      <td>6,590,300</td>\n",
              "      <td>0.584766</td>\n",
              "    </tr>\n",
              "    <tr>\n",
              "      <th>6/1/2012</th>\n",
              "      <td>328.34</td>\n",
              "      <td>328.77</td>\n",
              "      <td>323.68</td>\n",
              "      <td>648.24</td>\n",
              "      <td>5,405,900</td>\n",
              "      <td>0.038976</td>\n",
              "    </tr>\n",
              "    <tr>\n",
              "      <th>9/1/2012</th>\n",
              "      <td>322.04</td>\n",
              "      <td>322.29</td>\n",
              "      <td>309.46</td>\n",
              "      <td>620.76</td>\n",
              "      <td>11,688,800</td>\n",
              "      <td>0.417726</td>\n",
              "    </tr>\n",
              "  </tbody>\n",
              "</table>\n",
              "</div>"
            ],
            "text/plain": [
              "            Open    High     Low   Close      Volume  Sentiment\n",
              "Date                                                           \n",
              "3/1/2012  325.25  332.83  324.97  663.59   7,380,500   0.054269\n",
              "4/1/2012  331.27  333.87  329.08  666.45   5,749,400   0.443195\n",
              "5/1/2012  329.83  330.75  326.89  657.21   6,590,300   0.584766\n",
              "6/1/2012  328.34  328.77  323.68  648.24   5,405,900   0.038976\n",
              "9/1/2012  322.04  322.29  309.46  620.76  11,688,800   0.417726"
            ]
          },
          "metadata": {
            "tags": []
          },
          "execution_count": 2
        }
      ]
    },
    {
      "cell_type": "code",
      "metadata": {
        "id": "zW1LgVtEQoJ1",
        "colab_type": "code",
        "colab": {
          "base_uri": "https://localhost:8080/",
          "height": 134
        },
        "outputId": "5c946094-26cc-41c7-861c-6da5c7e6b5f7"
      },
      "source": [
        "dataset_train = pd.read_csv(file)\n",
        "training_set = dataset_train.iloc[:, [1, 6]].values\n",
        "print(training_set)\n",
        "\n",
        "#using iloc we have selected open and sentiment columns"
      ],
      "execution_count": null,
      "outputs": [
        {
          "output_type": "stream",
          "text": [
            "[[3.25250000e+02 5.42691740e-02]\n",
            " [3.31270000e+02 4.43194765e-01]\n",
            " [3.29830000e+02 5.84765624e-01]\n",
            " ...\n",
            " [7.93700000e+02 1.37792120e-01]\n",
            " [7.83330000e+02 7.24438500e-02]\n",
            " [7.82750000e+02 1.95534118e-01]]\n"
          ],
          "name": "stdout"
        }
      ]
    },
    {
      "cell_type": "code",
      "metadata": {
        "id": "ffx5KoarNma1",
        "colab_type": "code",
        "colab": {
          "base_uri": "https://localhost:8080/",
          "height": 584
        },
        "outputId": "fb47b80b-4a91-4a21-9c80-1b116fd40e7e"
      },
      "source": [
        "plt.figure(figsize=(20, 9));\n",
        "plt.plot(df.Open.values, color='red', label='open')\n",
        "#plt.plot(df.Low.values, color='blue', label='low')\n",
        "#plt.plot(df.High.values, color='black', label='high')\n",
        "plt.title('stock prices')\n",
        "plt.xlabel('time [days]')\n",
        "plt.ylabel('price')\n",
        "plt.legend(loc='best')"
      ],
      "execution_count": null,
      "outputs": [
        {
          "output_type": "execute_result",
          "data": {
            "text/plain": [
              "<matplotlib.legend.Legend at 0x7f90c036f470>"
            ]
          },
          "metadata": {
            "tags": []
          },
          "execution_count": 3
        },
        {
          "output_type": "display_data",
          "data": {
            "image/png": "[encoded data removed]",
            "text/plain": [
              "<Figure size 1440x648 with 1 Axes>"
            ]
          },
          "metadata": {
            "tags": [],
            "needs_background": "light"
          }
        }
      ]
    },
    {
      "cell_type": "code",
      "metadata": {
        "id": "D40Vas9bR9e7",
        "colab_type": "code",
        "colab": {
          "base_uri": "https://localhost:8080/",
          "height": 134
        },
        "outputId": "9ebe5e27-2619-4329-ebf6-d01fe911009c"
      },
      "source": [
        "# Feature Scaling\n",
        "from sklearn.preprocessing import MinMaxScaler\n",
        "sc = MinMaxScaler(feature_range = (0, 1))\n",
        "training_set_scaled = sc.fit_transform(training_set)\n",
        "print(training_set_scaled)"
      ],
      "execution_count": null,
      "outputs": [
        {
          "output_type": "stream",
          "text": [
            "[[0.08581368 0.05382832]\n",
            " [0.09701243 0.44333793]\n",
            " [0.09433366 0.58512138]\n",
            " ...\n",
            " [0.95725128 0.13747668]\n",
            " [0.93796041 0.07203028]\n",
            " [0.93688146 0.19530539]]\n"
          ],
          "name": "stdout"
        }
      ]
    },
    {
      "cell_type": "code",
      "metadata": {
        "id": "GutC3j-xSQ3d",
        "colab_type": "code",
        "colab": {}
      },
      "source": [
        "# Creating a data structure with 60 timesteps and 1 output\n",
        "X_train = []\n",
        "X_train.append([])\n",
        "X_train.append([])\n",
        "# we have created a 2D array\n",
        "y_train = []\n",
        "\n",
        "for i in range(60, 1258):\n",
        "    X_train[0].append(training_set_scaled[i-60:i, 0])\n",
        "    X_train[1].append(training_set_scaled[i-60:i, 1])\n",
        "    y_train.append(training_set_scaled[i, 0])\n",
        "X_train, y_train = np.array(X_train), np.array(y_train)\n"
      ],
      "execution_count": null,
      "outputs": []
    },
    {
      "cell_type": "code",
      "metadata": {
        "id": "QAZPmNrCSVTE",
        "colab_type": "code",
        "colab": {
          "base_uri": "https://localhost:8080/",
          "height": 269
        },
        "outputId": "9a7c4535-45f3-4ca3-9a70-e8316425bc04"
      },
      "source": [
        "print(X_train)"
      ],
      "execution_count": null,
      "outputs": [
        {
          "output_type": "stream",
          "text": [
            "[[[0.08581368 0.09701243 0.09433366 ... 0.07846566 0.08034452 0.08497656]\n",
            "  [0.09701243 0.09433366 0.09156187 ... 0.08034452 0.08497656 0.08627874]\n",
            "  [0.09433366 0.09156187 0.07984225 ... 0.08497656 0.08627874 0.08471612]\n",
            "  ...\n",
            "  [0.92106928 0.92438053 0.93048218 ... 0.95475854 0.95204256 0.95163331]\n",
            "  [0.92438053 0.93048218 0.9299055  ... 0.95204256 0.95163331 0.95725128]\n",
            "  [0.93048218 0.9299055  0.93113327 ... 0.95163331 0.95725128 0.93796041]]\n",
            "\n",
            " [[0.05382832 0.44333793 0.58512138 ... 0.96264534 0.49693967 0.85223773]\n",
            "  [0.44333793 0.58512138 0.03851247 ... 0.49693967 0.85223773 0.76171189]\n",
            "  [0.58512138 0.03851247 0.41783076 ... 0.85223773 0.76171189 0.9389929 ]\n",
            "  ...\n",
            "  [0.66960336 0.96863193 0.77670793 ... 0.94660975 0.49209581 0.17898431]\n",
            "  [0.96863193 0.77670793 0.60585258 ... 0.49209581 0.17898431 0.13747668]\n",
            "  [0.77670793 0.60585258 0.93385643 ... 0.17898431 0.13747668 0.07203028]]]\n"
          ],
          "name": "stdout"
        }
      ]
    },
    {
      "cell_type": "code",
      "metadata": {
        "id": "0TqB2i3rSaLR",
        "colab_type": "code",
        "colab": {
          "base_uri": "https://localhost:8080/",
          "height": 34
        },
        "outputId": "70caaf73-9205-48de-f21c-a160b483137d"
      },
      "source": [
        "print(y_train)"
      ],
      "execution_count": null,
      "outputs": [
        {
          "output_type": "stream",
          "text": [
            "[0.08627874 0.08471612 0.07454052 ... 0.95725128 0.93796041 0.93688146]\n"
          ],
          "name": "stdout"
        }
      ]
    },
    {
      "cell_type": "markdown",
      "metadata": {
        "id": "J4GIp0pNay7P",
        "colab_type": "text"
      },
      "source": [
        "#real code"
      ]
    },
    {
      "cell_type": "code",
      "metadata": {
        "id": "NvWZ1z3LTd99",
        "colab_type": "code",
        "colab": {
          "base_uri": "https://localhost:8080/",
          "height": 34
        },
        "outputId": "9d5ef1dd-07de-4d1d-f945-378f62bb7a4b"
      },
      "source": [
        "X_train.shape[0]"
      ],
      "execution_count": null,
      "outputs": [
        {
          "output_type": "execute_result",
          "data": {
            "text/plain": [
              "2"
            ]
          },
          "metadata": {
            "tags": []
          },
          "execution_count": 12
        }
      ]
    },
    {
      "cell_type": "code",
      "metadata": {
        "id": "M9LOQ9DMZV9k",
        "colab_type": "code",
        "colab": {
          "base_uri": "https://localhost:8080/",
          "height": 34
        },
        "outputId": "fa1e41d0-5cbb-478f-995a-b23ce1540aff"
      },
      "source": [
        "X_train.shape[1]"
      ],
      "execution_count": null,
      "outputs": [
        {
          "output_type": "execute_result",
          "data": {
            "text/plain": [
              "1198"
            ]
          },
          "metadata": {
            "tags": []
          },
          "execution_count": 13
        }
      ]
    },
    {
      "cell_type": "code",
      "metadata": {
        "id": "JHpxD6jHaWhn",
        "colab_type": "code",
        "colab": {
          "base_uri": "https://localhost:8080/",
          "height": 34
        },
        "outputId": "df4dc73c-6dd8-4e2c-f312-e649e5031f8b"
      },
      "source": [
        "X_train.shape[2]"
      ],
      "execution_count": null,
      "outputs": [
        {
          "output_type": "execute_result",
          "data": {
            "text/plain": [
              "60"
            ]
          },
          "metadata": {
            "tags": []
          },
          "execution_count": 14
        }
      ]
    },
    {
      "cell_type": "code",
      "metadata": {
        "id": "LhS9tl0JTeAV",
        "colab_type": "code",
        "colab": {}
      },
      "source": [
        "# Reshaping\n",
        "X_train = np.reshape(X_train, (X_train.shape[1], X_train.shape[2], 2))"
      ],
      "execution_count": null,
      "outputs": []
    },
    {
      "cell_type": "code",
      "metadata": {
        "id": "yNwXuiEMTeDu",
        "colab_type": "code",
        "colab": {
          "base_uri": "https://localhost:8080/",
          "height": 34
        },
        "outputId": "ecc19909-f315-4111-c418-e943a6c1fc83"
      },
      "source": [
        "X_train.shape"
      ],
      "execution_count": null,
      "outputs": [
        {
          "output_type": "execute_result",
          "data": {
            "text/plain": [
              "(1198, 60, 2)"
            ]
          },
          "metadata": {
            "tags": []
          },
          "execution_count": 16
        }
      ]
    },
    {
      "cell_type": "code",
      "metadata": {
        "id": "SKXaNq7Prr4z",
        "colab_type": "code",
        "colab": {
          "base_uri": "https://localhost:8080/",
          "height": 1000
        },
        "outputId": "22cacc9d-a73c-44be-8205-a2beeaa1dba4"
      },
      "source": [
        "# Building the RNN\n",
        "!pip install tensorflow==1.14\n",
        "# Importing the Keras libraries and packages\n",
        "from keras.models import Sequential\n",
        "from keras.layers import Dense\n",
        "from keras.layers import LSTM\n",
        "from keras.layers import Dropout\n",
        "\n",
        "# Initialising the RNN\n",
        "regressor = Sequential()\n",
        "\n",
        "# Adding the LSTM and Dropout regularisation\n",
        "regressor.add(LSTM(units = 50, return_sequences = True, input_shape = (X_train.shape[1], 2)))\n",
        "regressor.add(Dropout(0.2))\n",
        "\n",
        "# Adding a second LSTM layer and Dropout regularisation\n",
        "regressor.add(LSTM(units = 50, return_sequences = True))\n",
        "regressor.add(Dropout(0.2))\n",
        "\n",
        "\n",
        "# Adding a third LSTM layer and  Dropout regularisation\n",
        "regressor.add(LSTM(units = 50, return_sequences = True))\n",
        "regressor.add(Dropout(0.2))\n",
        "\n",
        "# Adding a fourth LSTM layer and some Dropout regularisation\n",
        "regressor.add(LSTM(units = 50))\n",
        "regressor.add(Dropout(0.2))\n",
        "\n",
        "# Adding the output layer\n",
        "regressor.add(Dense(units = 1))\n",
        "\n",
        "# Compiling the RNN\n",
        "regressor.compile(optimizer = 'adam', loss = 'mean_squared_error')\n",
        "\n",
        "# Fitting the RNN to the Training set\n",
        "regressor.fit(X_train, y_train, epochs = 30, batch_size = 32)\n",
        "\n",
        "dataset_test = pd.read_csv(file2)\n",
        "real_stock_price = dataset_test.iloc[:, [1]].values"
      ],
      "execution_count": null,
      "outputs": [
        {
          "output_type": "stream",
          "text": [
            "Requirement already satisfied: tensorflow==1.14 in /usr/local/lib/python3.6/dist-packages (1.14.0)\n",
            "Requirement already satisfied: absl-py>=0.7.0 in /usr/local/lib/python3.6/dist-packages (from tensorflow==1.14) (0.9.0)\n",
            "Requirement already satisfied: termcolor>=1.1.0 in /usr/local/lib/python3.6/dist-packages (from tensorflow==1.14) (1.1.0)\n",
            "Requirement already satisfied: gast>=0.2.0 in /usr/local/lib/python3.6/dist-packages (from tensorflow==1.14) (0.3.3)\n",
            "Requirement already satisfied: keras-applications>=1.0.6 in /usr/local/lib/python3.6/dist-packages (from tensorflow==1.14) (1.0.8)\n",
            "Requirement already satisfied: six>=1.10.0 in /usr/local/lib/python3.6/dist-packages (from tensorflow==1.14) (1.12.0)\n",
            "Requirement already satisfied: protobuf>=3.6.1 in /usr/local/lib/python3.6/dist-packages (from tensorflow==1.14) (3.10.0)\n",
            "Requirement already satisfied: tensorboard<1.15.0,>=1.14.0 in /usr/local/lib/python3.6/dist-packages (from tensorflow==1.14) (1.14.0)\n",
            "Requirement already satisfied: astor>=0.6.0 in /usr/local/lib/python3.6/dist-packages (from tensorflow==1.14) (0.8.1)\n",
            "Requirement already satisfied: wrapt>=1.11.1 in /usr/local/lib/python3.6/dist-packages (from tensorflow==1.14) (1.12.1)\n",
            "Requirement already satisfied: grpcio>=1.8.6 in /usr/local/lib/python3.6/dist-packages (from tensorflow==1.14) (1.29.0)\n",
            "Requirement already satisfied: keras-preprocessing>=1.0.5 in /usr/local/lib/python3.6/dist-packages (from tensorflow==1.14) (1.1.2)\n",
            "Requirement already satisfied: google-pasta>=0.1.6 in /usr/local/lib/python3.6/dist-packages (from tensorflow==1.14) (0.2.0)\n",
            "Requirement already satisfied: numpy<2.0,>=1.14.5 in /usr/local/lib/python3.6/dist-packages (from tensorflow==1.14) (1.18.4)\n",
            "Requirement already satisfied: wheel>=0.26 in /usr/local/lib/python3.6/dist-packages (from tensorflow==1.14) (0.34.2)\n",
            "Requirement already satisfied: tensorflow-estimator<1.15.0rc0,>=1.14.0rc0 in /usr/local/lib/python3.6/dist-packages (from tensorflow==1.14) (1.14.0)\n",
            "Requirement already satisfied: h5py in /usr/local/lib/python3.6/dist-packages (from keras-applications>=1.0.6->tensorflow==1.14) (2.10.0)\n",
            "Requirement already satisfied: setuptools in /usr/local/lib/python3.6/dist-packages (from protobuf>=3.6.1->tensorflow==1.14) (46.3.0)\n",
            "Requirement already satisfied: markdown>=2.6.8 in /usr/local/lib/python3.6/dist-packages (from tensorboard<1.15.0,>=1.14.0->tensorflow==1.14) (3.2.2)\n",
            "Requirement already satisfied: werkzeug>=0.11.15 in /usr/local/lib/python3.6/dist-packages (from tensorboard<1.15.0,>=1.14.0->tensorflow==1.14) (1.0.1)\n",
            "Requirement already satisfied: importlib-metadata; python_version < \"3.8\" in /usr/local/lib/python3.6/dist-packages (from markdown>=2.6.8->tensorboard<1.15.0,>=1.14.0->tensorflow==1.14) (1.6.0)\n",
            "Requirement already satisfied: zipp>=0.5 in /usr/local/lib/python3.6/dist-packages (from importlib-metadata; python_version < \"3.8\"->markdown>=2.6.8->tensorboard<1.15.0,>=1.14.0->tensorflow==1.14) (3.1.0)\n",
            "Epoch 1/30\n",
            "1198/1198 [==============================] - 9s 7ms/step - loss: 0.0802\n",
            "Epoch 2/30\n",
            "1198/1198 [==============================] - 5s 4ms/step - loss: 0.0548\n",
            "Epoch 3/30\n",
            "1198/1198 [==============================] - 5s 4ms/step - loss: 0.0524\n",
            "Epoch 4/30\n",
            "1198/1198 [==============================] - 5s 4ms/step - loss: 0.0494\n",
            "Epoch 5/30\n",
            "1198/1198 [==============================] - 5s 4ms/step - loss: 0.0486\n",
            "Epoch 6/30\n",
            "1198/1198 [==============================] - 5s 4ms/step - loss: 0.0455\n",
            "Epoch 7/30\n",
            "1198/1198 [==============================] - 5s 4ms/step - loss: 0.0429\n",
            "Epoch 8/30\n",
            "1198/1198 [==============================] - 5s 4ms/step - loss: 0.0445\n",
            "Epoch 9/30\n",
            "1198/1198 [==============================] - 5s 4ms/step - loss: 0.0441\n",
            "Epoch 10/30\n",
            "1198/1198 [==============================] - 5s 4ms/step - loss: 0.0427\n",
            "Epoch 11/30\n",
            "1198/1198 [==============================] - 5s 4ms/step - loss: 0.0413\n",
            "Epoch 12/30\n",
            "1198/1198 [==============================] - 5s 5ms/step - loss: 0.0421\n",
            "Epoch 13/30\n",
            "1198/1198 [==============================] - 7s 6ms/step - loss: 0.0408\n",
            "Epoch 14/30\n",
            "1198/1198 [==============================] - 6s 5ms/step - loss: 0.0416\n",
            "Epoch 15/30\n",
            "1198/1198 [==============================] - 5s 4ms/step - loss: 0.0415\n",
            "Epoch 16/30\n",
            "1198/1198 [==============================] - 5s 4ms/step - loss: 0.0432\n",
            "Epoch 17/30\n",
            "1198/1198 [==============================] - 5s 4ms/step - loss: 0.0413\n",
            "Epoch 18/30\n",
            "1198/1198 [==============================] - 5s 4ms/step - loss: 0.0413\n",
            "Epoch 19/30\n",
            "1198/1198 [==============================] - 5s 4ms/step - loss: 0.0412\n",
            "Epoch 20/30\n",
            "1198/1198 [==============================] - 5s 4ms/step - loss: 0.0421\n",
            "Epoch 21/30\n",
            "1198/1198 [==============================] - 5s 4ms/step - loss: 0.0406\n",
            "Epoch 22/30\n",
            "1198/1198 [==============================] - 5s 4ms/step - loss: 0.0407\n",
            "Epoch 23/30\n",
            "1198/1198 [==============================] - 5s 4ms/step - loss: 0.0405\n",
            "Epoch 24/30\n",
            "1198/1198 [==============================] - 5s 4ms/step - loss: 0.0407\n",
            "Epoch 25/30\n",
            "1198/1198 [==============================] - 5s 4ms/step - loss: 0.0394\n",
            "Epoch 26/30\n",
            "1198/1198 [==============================] - 5s 4ms/step - loss: 0.0400\n",
            "Epoch 27/30\n",
            "1198/1198 [==============================] - 5s 4ms/step - loss: 0.0388\n",
            "Epoch 28/30\n",
            "1198/1198 [==============================] - 5s 4ms/step - loss: 0.0417\n",
            "Epoch 29/30\n",
            "1198/1198 [==============================] - 5s 4ms/step - loss: 0.0393\n",
            "Epoch 30/30\n",
            "1198/1198 [==============================] - 5s 4ms/step - loss: 0.0390\n"
          ],
          "name": "stdout"
        }
      ]
    },
    {
      "cell_type": "code",
      "metadata": {
        "id": "CmvqTkjKTybV",
        "colab_type": "code",
        "colab": {}
      },
      "source": [
        "# preprocessing the data to do prediction real \n",
        "dataset_total = pd.concat((dataset_train['Open'], dataset_test['Open']), axis = 0)\n",
        "inputs = dataset_total[len(dataset_total) - len(dataset_test) - 60:].values\n",
        "inputs = inputs.reshape(-1,1)\n",
        "inputs = sc.fit_transform(inputs)"
      ],
      "execution_count": null,
      "outputs": []
    },
    {
      "cell_type": "code",
      "metadata": {
        "id": "kZN8ZTxPTwLx",
        "colab_type": "code",
        "colab": {}
      },
      "source": [
        "sdataset_total = pd.concat((dataset_train['Sentiment'], dataset_test['Sentiment']), axis = 0)\n",
        "sinputs = sdataset_total[len(sdataset_total) - len(dataset_test) - 60:].values\n",
        "sinputs = sinputs.reshape(-1,1)\n",
        "inputs = sc.fit_transform(sinputs)"
      ],
      "execution_count": null,
      "outputs": []
    },
    {
      "cell_type": "code",
      "metadata": {
        "id": "YtQ9tJrMwivM",
        "colab_type": "code",
        "colab": {}
      },
      "source": [
        "X_test = []\n",
        "X_test.append([])\n",
        "X_test.append([])\n",
        "for i in range(60, 80):\n",
        "    X_test[0].append(inputs[i-60:i, 0])\n",
        "    X_test[1].append(sinputs[i-60:i, 0])\n",
        "X_test = np.array(X_test)\n",
        "X_test = np.reshape(X_test, (X_test.shape[1], X_test.shape[2], 2))"
      ],
      "execution_count": null,
      "outputs": []
    },
    {
      "cell_type": "code",
      "metadata": {
        "id": "pOEgWPOT2vd9",
        "colab_type": "code",
        "colab": {}
      },
      "source": [
        "predicted_stock_price = regressor.predict(X_test)\n",
        "predicted_stock_price = sc.inverse_transform(predicted_stock_price)"
      ],
      "execution_count": null,
      "outputs": []
    },
    {
      "cell_type": "code",
      "metadata": {
        "id": "aDen5KSd58jq",
        "colab_type": "code",
        "colab": {
          "base_uri": "https://localhost:8080/",
          "height": 295
        },
        "outputId": "a900dd62-2e9b-4af1-edc9-7c489404abcd"
      },
      "source": [
        "# Visualising the results\n",
        "plt.plot(real_stock_price, color = 'red', label = 'Real Stock Price')\n",
        "plt.plot(predicted_stock_price, color = 'blue', label = 'Predicted Stock Price')\n",
        "plt.title(' Stock Price Prediction')\n",
        "plt.xlabel('Time')\n",
        "plt.ylabel(' Stock Price')\n",
        "plt.legend()\n",
        "plt.show()"
      ],
      "execution_count": null,
      "outputs": [
        {
          "output_type": "display_data",
          "data": {
            "image/png": "[encoded data removed]",
            "text/plain": [
              "<Figure size 432x288 with 1 Axes>"
            ]
          },
          "metadata": {
            "tags": [],
            "needs_background": "light"
          }
        }
      ]
    },
    {
      "cell_type": "code",
      "metadata": {
        "id": "BXN572447yjn",
        "colab_type": "code",
        "colab": {}
      },
      "source": [
        "def get_mape(y_true, y_pred): \n",
        "    y_true, y_pred = np.array(y_true), np.array(y_pred)\n",
        "    return np.mean(np.abs((y_true - y_pred) / y_true)) * 100"
      ],
      "execution_count": null,
      "outputs": []
    },
    {
      "cell_type": "code",
      "metadata": {
        "id": "WAvc7CLt5k94",
        "colab_type": "code",
        "colab": {
          "base_uri": "https://localhost:8080/",
          "height": 34
        },
        "outputId": "b952492c-4c45-424b-95fb-b34e2804446e"
      },
      "source": [
        "mape = get_mape(real_stock_price, predicted_stock_price)\n",
        "print(mape)"
      ],
      "execution_count": null,
      "outputs": [
        {
          "output_type": "stream",
          "text": [
            "1.286322788713921\n"
          ],
          "name": "stdout"
        }
      ]
    }
  ]
}